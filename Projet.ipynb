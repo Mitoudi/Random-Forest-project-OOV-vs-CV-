{
 "cells": [
  {
   "cell_type": "code",
   "execution_count": 1,
   "metadata": {
    "vscode": {
     "languageId": "r"
    }
   },
   "outputs": [
    {
     "data": {
      "text/html": [
       "<table class=\"dataframe\">\n",
       "<caption>A data.frame: 6 x 22</caption>\n",
       "<thead>\n",
       "\t<tr><th></th><th scope=col>Country</th><th scope=col>Year</th><th scope=col>Status</th><th scope=col>Life.expectancy</th><th scope=col>Adult.Mortality</th><th scope=col>infant.deaths</th><th scope=col>Alcohol</th><th scope=col>percentage.expenditure</th><th scope=col>Hepatitis.B</th><th scope=col>Measles</th><th scope=col>...</th><th scope=col>Polio</th><th scope=col>Total.expenditure</th><th scope=col>Diphtheria</th><th scope=col>HIV.AIDS</th><th scope=col>GDP</th><th scope=col>Population</th><th scope=col>thinness..1.19.years</th><th scope=col>thinness.5.9.years</th><th scope=col>Income.composition.of.resources</th><th scope=col>Schooling</th></tr>\n",
       "\t<tr><th></th><th scope=col>&lt;chr&gt;</th><th scope=col>&lt;int&gt;</th><th scope=col>&lt;chr&gt;</th><th scope=col>&lt;dbl&gt;</th><th scope=col>&lt;int&gt;</th><th scope=col>&lt;int&gt;</th><th scope=col>&lt;dbl&gt;</th><th scope=col>&lt;dbl&gt;</th><th scope=col>&lt;int&gt;</th><th scope=col>&lt;int&gt;</th><th scope=col>...</th><th scope=col>&lt;int&gt;</th><th scope=col>&lt;dbl&gt;</th><th scope=col>&lt;int&gt;</th><th scope=col>&lt;dbl&gt;</th><th scope=col>&lt;dbl&gt;</th><th scope=col>&lt;dbl&gt;</th><th scope=col>&lt;dbl&gt;</th><th scope=col>&lt;dbl&gt;</th><th scope=col>&lt;dbl&gt;</th><th scope=col>&lt;dbl&gt;</th></tr>\n",
       "</thead>\n",
       "<tbody>\n",
       "\t<tr><th scope=row>1</th><td>Afghanistan</td><td>2015</td><td>Developing</td><td>65.0</td><td>263</td><td>62</td><td>0.01</td><td>71.279624</td><td>65</td><td>1154</td><td>...</td><td> 6</td><td>8.16</td><td>65</td><td>0.1</td><td>584.25921</td><td>33736494</td><td>17.2</td><td>17.3</td><td>0.479</td><td>10.1</td></tr>\n",
       "\t<tr><th scope=row>2</th><td>Afghanistan</td><td>2014</td><td>Developing</td><td>59.9</td><td>271</td><td>64</td><td>0.01</td><td>73.523582</td><td>62</td><td> 492</td><td>...</td><td>58</td><td>8.18</td><td>62</td><td>0.1</td><td>612.69651</td><td>  327582</td><td>17.5</td><td>17.5</td><td>0.476</td><td>10.0</td></tr>\n",
       "\t<tr><th scope=row>3</th><td>Afghanistan</td><td>2013</td><td>Developing</td><td>59.9</td><td>268</td><td>66</td><td>0.01</td><td>73.219243</td><td>64</td><td> 430</td><td>...</td><td>62</td><td>8.13</td><td>64</td><td>0.1</td><td>631.74498</td><td>31731688</td><td>17.7</td><td>17.7</td><td>0.470</td><td> 9.9</td></tr>\n",
       "\t<tr><th scope=row>4</th><td>Afghanistan</td><td>2012</td><td>Developing</td><td>59.5</td><td>272</td><td>69</td><td>0.01</td><td>78.184215</td><td>67</td><td>2787</td><td>...</td><td>67</td><td>8.52</td><td>67</td><td>0.1</td><td>669.95900</td><td> 3696958</td><td>17.9</td><td>18.0</td><td>0.463</td><td> 9.8</td></tr>\n",
       "\t<tr><th scope=row>5</th><td>Afghanistan</td><td>2011</td><td>Developing</td><td>59.2</td><td>275</td><td>71</td><td>0.01</td><td> 7.097109</td><td>68</td><td>3013</td><td>...</td><td>68</td><td>7.87</td><td>68</td><td>0.1</td><td> 63.53723</td><td> 2978599</td><td>18.2</td><td>18.2</td><td>0.454</td><td> 9.5</td></tr>\n",
       "\t<tr><th scope=row>6</th><td>Afghanistan</td><td>2010</td><td>Developing</td><td>58.8</td><td>279</td><td>74</td><td>0.01</td><td>79.679367</td><td>66</td><td>1989</td><td>...</td><td>66</td><td>9.20</td><td>66</td><td>0.1</td><td>553.32894</td><td> 2883167</td><td>18.4</td><td>18.4</td><td>0.448</td><td> 9.2</td></tr>\n",
       "</tbody>\n",
       "</table>\n"
      ],
      "text/latex": [
       "A data.frame: 6 x 22\n",
       "\\begin{tabular}{r|lllllllllllllllllllll}\n",
       "  & Country & Year & Status & Life.expectancy & Adult.Mortality & infant.deaths & Alcohol & percentage.expenditure & Hepatitis.B & Measles & ... & Polio & Total.expenditure & Diphtheria & HIV.AIDS & GDP & Population & thinness..1.19.years & thinness.5.9.years & Income.composition.of.resources & Schooling\\\\\n",
       "  & <chr> & <int> & <chr> & <dbl> & <int> & <int> & <dbl> & <dbl> & <int> & <int> & ... & <int> & <dbl> & <int> & <dbl> & <dbl> & <dbl> & <dbl> & <dbl> & <dbl> & <dbl>\\\\\n",
       "\\hline\n",
       "\t1 & Afghanistan & 2015 & Developing & 65.0 & 263 & 62 & 0.01 & 71.279624 & 65 & 1154 & ... &  6 & 8.16 & 65 & 0.1 & 584.25921 & 33736494 & 17.2 & 17.3 & 0.479 & 10.1\\\\\n",
       "\t2 & Afghanistan & 2014 & Developing & 59.9 & 271 & 64 & 0.01 & 73.523582 & 62 &  492 & ... & 58 & 8.18 & 62 & 0.1 & 612.69651 &   327582 & 17.5 & 17.5 & 0.476 & 10.0\\\\\n",
       "\t3 & Afghanistan & 2013 & Developing & 59.9 & 268 & 66 & 0.01 & 73.219243 & 64 &  430 & ... & 62 & 8.13 & 64 & 0.1 & 631.74498 & 31731688 & 17.7 & 17.7 & 0.470 &  9.9\\\\\n",
       "\t4 & Afghanistan & 2012 & Developing & 59.5 & 272 & 69 & 0.01 & 78.184215 & 67 & 2787 & ... & 67 & 8.52 & 67 & 0.1 & 669.95900 &  3696958 & 17.9 & 18.0 & 0.463 &  9.8\\\\\n",
       "\t5 & Afghanistan & 2011 & Developing & 59.2 & 275 & 71 & 0.01 &  7.097109 & 68 & 3013 & ... & 68 & 7.87 & 68 & 0.1 &  63.53723 &  2978599 & 18.2 & 18.2 & 0.454 &  9.5\\\\\n",
       "\t6 & Afghanistan & 2010 & Developing & 58.8 & 279 & 74 & 0.01 & 79.679367 & 66 & 1989 & ... & 66 & 9.20 & 66 & 0.1 & 553.32894 &  2883167 & 18.4 & 18.4 & 0.448 &  9.2\\\\\n",
       "\\end{tabular}\n"
      ],
      "text/markdown": [
       "\n",
       "A data.frame: 6 x 22\n",
       "\n",
       "| <!--/--> | Country &lt;chr&gt; | Year &lt;int&gt; | Status &lt;chr&gt; | Life.expectancy &lt;dbl&gt; | Adult.Mortality &lt;int&gt; | infant.deaths &lt;int&gt; | Alcohol &lt;dbl&gt; | percentage.expenditure &lt;dbl&gt; | Hepatitis.B &lt;int&gt; | Measles &lt;int&gt; | ... ... | Polio &lt;int&gt; | Total.expenditure &lt;dbl&gt; | Diphtheria &lt;int&gt; | HIV.AIDS &lt;dbl&gt; | GDP &lt;dbl&gt; | Population &lt;dbl&gt; | thinness..1.19.years &lt;dbl&gt; | thinness.5.9.years &lt;dbl&gt; | Income.composition.of.resources &lt;dbl&gt; | Schooling &lt;dbl&gt; |\n",
       "|---|---|---|---|---|---|---|---|---|---|---|---|---|---|---|---|---|---|---|---|---|---|\n",
       "| 1 | Afghanistan | 2015 | Developing | 65.0 | 263 | 62 | 0.01 | 71.279624 | 65 | 1154 | ... |  6 | 8.16 | 65 | 0.1 | 584.25921 | 33736494 | 17.2 | 17.3 | 0.479 | 10.1 |\n",
       "| 2 | Afghanistan | 2014 | Developing | 59.9 | 271 | 64 | 0.01 | 73.523582 | 62 |  492 | ... | 58 | 8.18 | 62 | 0.1 | 612.69651 |   327582 | 17.5 | 17.5 | 0.476 | 10.0 |\n",
       "| 3 | Afghanistan | 2013 | Developing | 59.9 | 268 | 66 | 0.01 | 73.219243 | 64 |  430 | ... | 62 | 8.13 | 64 | 0.1 | 631.74498 | 31731688 | 17.7 | 17.7 | 0.470 |  9.9 |\n",
       "| 4 | Afghanistan | 2012 | Developing | 59.5 | 272 | 69 | 0.01 | 78.184215 | 67 | 2787 | ... | 67 | 8.52 | 67 | 0.1 | 669.95900 |  3696958 | 17.9 | 18.0 | 0.463 |  9.8 |\n",
       "| 5 | Afghanistan | 2011 | Developing | 59.2 | 275 | 71 | 0.01 |  7.097109 | 68 | 3013 | ... | 68 | 7.87 | 68 | 0.1 |  63.53723 |  2978599 | 18.2 | 18.2 | 0.454 |  9.5 |\n",
       "| 6 | Afghanistan | 2010 | Developing | 58.8 | 279 | 74 | 0.01 | 79.679367 | 66 | 1989 | ... | 66 | 9.20 | 66 | 0.1 | 553.32894 |  2883167 | 18.4 | 18.4 | 0.448 |  9.2 |\n",
       "\n"
      ],
      "text/plain": [
       "  Country     Year Status     Life.expectancy Adult.Mortality infant.deaths\n",
       "1 Afghanistan 2015 Developing 65.0            263             62           \n",
       "2 Afghanistan 2014 Developing 59.9            271             64           \n",
       "3 Afghanistan 2013 Developing 59.9            268             66           \n",
       "4 Afghanistan 2012 Developing 59.5            272             69           \n",
       "5 Afghanistan 2011 Developing 59.2            275             71           \n",
       "6 Afghanistan 2010 Developing 58.8            279             74           \n",
       "  Alcohol percentage.expenditure Hepatitis.B Measles ... Polio\n",
       "1 0.01    71.279624              65          1154    ...  6   \n",
       "2 0.01    73.523582              62           492    ... 58   \n",
       "3 0.01    73.219243              64           430    ... 62   \n",
       "4 0.01    78.184215              67          2787    ... 67   \n",
       "5 0.01     7.097109              68          3013    ... 68   \n",
       "6 0.01    79.679367              66          1989    ... 66   \n",
       "  Total.expenditure Diphtheria HIV.AIDS GDP       Population\n",
       "1 8.16              65         0.1      584.25921 33736494  \n",
       "2 8.18              62         0.1      612.69651   327582  \n",
       "3 8.13              64         0.1      631.74498 31731688  \n",
       "4 8.52              67         0.1      669.95900  3696958  \n",
       "5 7.87              68         0.1       63.53723  2978599  \n",
       "6 9.20              66         0.1      553.32894  2883167  \n",
       "  thinness..1.19.years thinness.5.9.years Income.composition.of.resources\n",
       "1 17.2                 17.3               0.479                          \n",
       "2 17.5                 17.5               0.476                          \n",
       "3 17.7                 17.7               0.470                          \n",
       "4 17.9                 18.0               0.463                          \n",
       "5 18.2                 18.2               0.454                          \n",
       "6 18.4                 18.4               0.448                          \n",
       "  Schooling\n",
       "1 10.1     \n",
       "2 10.0     \n",
       "3  9.9     \n",
       "4  9.8     \n",
       "5  9.5     \n",
       "6  9.2     "
      ]
     },
     "metadata": {},
     "output_type": "display_data"
    }
   ],
   "source": [
    "#IMPORTATION DE LA BASE DE DONNÉES\n",
    "\n",
    "file_path <- \"/Users/leogonin/Desktop/MASTER/M2 GRAF/MAUME/PROJET/Life Expectancy Data.csv\"\n",
    "\n",
    "data <- read.csv(file_path, header = TRUE, sep = \",\", stringsAsFactors = FALSE)\n",
    "\n",
    "head(data)"
   ]
  },
  {
   "cell_type": "code",
   "execution_count": 2,
   "metadata": {
    "vscode": {
     "languageId": "r"
    }
   },
   "outputs": [
    {
     "name": "stderr",
     "output_type": "stream",
     "text": [
      "randomForest 4.7-1.1\n",
      "\n",
      "Type rfNews() to see new features/changes/bug fixes.\n",
      "\n"
     ]
    }
   ],
   "source": [
    "library(randomForest)\n"
   ]
  },
  {
   "cell_type": "code",
   "execution_count": 3,
   "metadata": {
    "vscode": {
     "languageId": "r"
    }
   },
   "outputs": [
    {
     "name": "stdout",
     "output_type": "stream",
     "text": [
      "  [1]    8   11   16   19   21   27   29   48   49   58   60   65   66   72   74\n",
      " [16]   80   81   86   89   94   99  100  101  102  105  106  118  120  121  133\n",
      " [31]  136  138  140  141  144  145  158  161  162  167  180  185  191  192  204\n",
      " [46]  207  211  213  215  216  220  221  227  240  241  246  249  257  262  269\n",
      " [61]  275  281  284  286  288  291  292  298  305  306  311  312  313  316  323\n",
      " [76]  324  326  327  329  334  335  338  342  343  345  358  360  367  372  381\n",
      " [91]  387  388  390  398  408  415  419  424  426  427  429  430  431  432  434\n",
      "[106]  435  441  442  443  445  449  456  459  468  475  487  492  493  500  503\n",
      "[121]  506  507  518  523  529  530  531  533  537  544  548  551  553  556  561\n",
      "[136]  563  566  568  569  579  581  587  588  589  592  595  606  622  623  625\n",
      "[151]  629  633  637  642  643  645  647  655  673  684  687  692  700  702  708\n",
      "[166]  709  711  714  715  718  720  722  727  731  733  738  739  745  752  756\n",
      "[181]  760  762  765  771  773  779  782  788  789  797  802  803  806  812  813\n",
      "[196]  814  822  827  831  833  838  855  857  861  877  880  883  886  900  902\n",
      "[211]  905  911  914  925  928  930  941  945  951  952  964  965  975  980  981\n",
      "[226]  982  983  985  994  997 1001 1003 1007 1008 1010 1019 1020 1021 1023 1024\n",
      "[241] 1026 1032 1035 1044 1047 1052 1055 1056 1060 1066 1067 1070 1073 1077 1078\n",
      "[256] 1079 1081 1082 1090 1092 1094 1095 1097 1104 1107 1115 1116 1135 1142 1149\n",
      "[271] 1153 1163 1167 1170 1173 1176 1180 1181 1183 1185 1188 1190 1195 1196 1197\n",
      "[286] 1198 1199 1204 1206 1209 1210 1213 1216 1219 1221 1222 1223 1225 1226 1228\n",
      "[301] 1231 1233 1242 1244 1245 1247 1250 1252 1262 1264 1268 1270 1276 1284 1303\n",
      "[316] 1304 1305 1307 1308 1322 1327 1332 1338 1339 1340 1345 1348 1350 1354 1359\n",
      "[331] 1366 1370 1378 1379 1381 1383 1384 1386 1389 1394 1395 1397 1399 1400 1403\n",
      "[346] 1405 1406 1409 1411 1414 1420 1428 1430 1431 1432 1433 1434 1438 1442 1451\n",
      "[361] 1453 1458 1466 1473 1475 1478 1485 1491 1493 1494 1497 1498 1503 1507 1516\n",
      "[376] 1517 1518 1521 1524 1527 1528 1540 1544 1546 1550 1556 1568 1572 1574 1575\n",
      "[391] 1577 1578 1582 1583 1584 1591 1592 1595 1601 1612 1617 1620 1622 1623 1633\n",
      "[406] 1636 1639 1640 1641 1643 1644 1651 1654 1655 1659 1660 1664 1665 1669 1671\n",
      "[421] 1672 1684 1688 1693 1694 1696 1697 1698 1709 1714 1722 1723 1726 1728 1729\n",
      "[436] 1732 1733 1736 1739 1747 1753 1754 1758 1761 1762 1767 1770 1774 1789 1790\n",
      "[451] 1793 1795 1798 1801 1808 1810 1818 1819 1831 1832 1839 1846 1848 1853 1858\n",
      "[466] 1859 1864 1871 1876 1879 1886 1887 1889 1894 1896 1897 1902 1903 1905 1916\n",
      "[481] 1919 1920 1921 1922 1926 1930 1931 1932 1935 1936 1937 1941 1947 1948 1952\n",
      "[496] 1958 1960 1962 1973 1974 1989 1990 1996 1997 1999 2014 2015 2020 2022 2041\n",
      "[511] 2042 2044 2053 2055 2068 2069 2072 2077 2078 2082 2084 2090 2091 2094 2095\n",
      "[526] 2097 2101 2105 2112 2118 2119 2127 2133 2135 2136 2143 2145 2150 2154 2156\n",
      "[541] 2175 2177 2179 2182 2183 2191 2192 2197 2198 2201 2202 2204 2208 2211 2213\n",
      "[556] 2214 2218 2221 2225 2226 2229 2230 2233 2236 2238 2249 2253 2255 2257 2265\n",
      "[571] 2266 2270 2274 2277 2279 2285 2289 2298 2302 2304 2308 2311 2321 2325 2327\n",
      "[586] 2329 2335 2338 2342 2348 2355 2358 2360 2361 2369 2372 2375 2391 2392 2393\n",
      "[601] 2399 2400 2407 2412 2420 2424 2426 2427 2437 2454 2456 2462 2464 2474 2475\n",
      "[616] 2476 2480 2482 2483 2485 2486 2488 2489 2492 2499 2500 2506 2508 2516 2523\n",
      "[631] 2525 2526 2528 2529 2530 2533 2535 2536 2538 2545 2551 2553 2555 2566 2567\n",
      "[646] 2568 2571 2580 2581 2583 2607 2608 2610 2612 2616 2622 2627 2628 2634 2638\n",
      "[661] 2650 2654 2655 2663 2672 2674 2676 2687 2691 2701 2703 2706 2708 2709 2713\n",
      "[676] 2714 2715 2729 2730 2733 2738 2740 2745 2748 2750 2751 2752 2753 2757 2759\n",
      "[691] 2764 2773 2778 2780 2790 2791 2794 2795 2797 2807 2808 2814 2816 2818 2819\n",
      "[706] 2821 2824 2829 2830 2831 2832 2838 2844 2865 2866 2879 2880 2889 2893 2898\n",
      "[721] 2906 2910 2911 2912 2913 2919 2923 2924 2929 2930 2931 2933 2937 2938\n"
     ]
    }
   ],
   "source": [
    "#SÉPARATION BASE TEST/ BASE ENTRAINEMENT\n",
    "n <- nrow(data)\n",
    "m =round( nrow(data)*0.25)\n",
    "\n",
    "Indice_test <- sample(1:n, size = m, replace = FALSE)\n",
    "Indice_test <- sort(Indice_test)\n",
    "print(Indice_test)"
   ]
  },
  {
   "cell_type": "code",
   "execution_count": 4,
   "metadata": {
    "vscode": {
     "languageId": "r"
    }
   },
   "outputs": [
    {
     "name": "stdout",
     "output_type": "stream",
     "text": [
      "Nombre d'individus dans la base de test : 411 \n",
      "Nombre d'individus dans la base d'entrainement : 1238 \n"
     ]
    },
    {
     "data": {
      "text/html": [
       "<table class=\"dataframe\">\n",
       "<caption>A data.frame: 6 x 22</caption>\n",
       "<thead>\n",
       "\t<tr><th></th><th scope=col>Country</th><th scope=col>Year</th><th scope=col>Status</th><th scope=col>Life.expectancy</th><th scope=col>Adult.Mortality</th><th scope=col>infant.deaths</th><th scope=col>Alcohol</th><th scope=col>percentage.expenditure</th><th scope=col>Hepatitis.B</th><th scope=col>Measles</th><th scope=col>...</th><th scope=col>Polio</th><th scope=col>Total.expenditure</th><th scope=col>Diphtheria</th><th scope=col>HIV.AIDS</th><th scope=col>GDP</th><th scope=col>Population</th><th scope=col>thinness..1.19.years</th><th scope=col>thinness.5.9.years</th><th scope=col>Income.composition.of.resources</th><th scope=col>Schooling</th></tr>\n",
       "\t<tr><th></th><th scope=col>&lt;chr&gt;</th><th scope=col>&lt;int&gt;</th><th scope=col>&lt;chr&gt;</th><th scope=col>&lt;dbl&gt;</th><th scope=col>&lt;int&gt;</th><th scope=col>&lt;int&gt;</th><th scope=col>&lt;dbl&gt;</th><th scope=col>&lt;dbl&gt;</th><th scope=col>&lt;int&gt;</th><th scope=col>&lt;int&gt;</th><th scope=col>...</th><th scope=col>&lt;int&gt;</th><th scope=col>&lt;dbl&gt;</th><th scope=col>&lt;int&gt;</th><th scope=col>&lt;dbl&gt;</th><th scope=col>&lt;dbl&gt;</th><th scope=col>&lt;dbl&gt;</th><th scope=col>&lt;dbl&gt;</th><th scope=col>&lt;dbl&gt;</th><th scope=col>&lt;dbl&gt;</th><th scope=col>&lt;dbl&gt;</th></tr>\n",
       "</thead>\n",
       "<tbody>\n",
       "\t<tr><th scope=row>8</th><td>Afghanistan</td><td>2008</td><td>Developing</td><td>58.1</td><td>287</td><td>80</td><td>0.03</td><td> 25.873925</td><td>64</td><td>1599</td><td>...</td><td>64</td><td>8.33</td><td>64</td><td>0.1</td><td> 373.36112</td><td>2729431</td><td>18.8</td><td>18.9</td><td>0.433</td><td> 8.7</td></tr>\n",
       "\t<tr><th scope=row>11</th><td>Afghanistan</td><td>2005</td><td>Developing</td><td>57.3</td><td>291</td><td>85</td><td>0.02</td><td>  1.388648</td><td>66</td><td>1296</td><td>...</td><td>58</td><td>8.70</td><td>58</td><td>0.1</td><td>  25.29413</td><td> 257798</td><td>19.3</td><td>19.5</td><td>0.396</td><td> 7.9</td></tr>\n",
       "\t<tr><th scope=row>16</th><td>Afghanistan</td><td>2000</td><td>Developing</td><td>54.8</td><td>321</td><td>88</td><td>0.01</td><td> 10.424960</td><td>62</td><td>6532</td><td>...</td><td>24</td><td>8.20</td><td>24</td><td>0.1</td><td> 114.56000</td><td> 293756</td><td> 2.3</td><td> 2.5</td><td>0.338</td><td> 5.5</td></tr>\n",
       "\t<tr><th scope=row>19</th><td>Albania    </td><td>2013</td><td>Developing</td><td>77.2</td><td> 84</td><td> 0</td><td>4.76</td><td>430.876979</td><td>99</td><td>   0</td><td>...</td><td>99</td><td>5.66</td><td>99</td><td>0.1</td><td>4414.72314</td><td> 289592</td><td> 1.3</td><td> 1.4</td><td>0.759</td><td>14.2</td></tr>\n",
       "\t<tr><th scope=row>21</th><td>Albania    </td><td>2011</td><td>Developing</td><td>76.6</td><td> 88</td><td> 0</td><td>5.37</td><td>437.062100</td><td>99</td><td>  28</td><td>...</td><td>99</td><td>5.71</td><td>99</td><td>0.1</td><td>4437.17868</td><td> 295195</td><td> 1.4</td><td> 1.5</td><td>0.738</td><td>13.3</td></tr>\n",
       "\t<tr><th scope=row>27</th><td>Albania    </td><td>2005</td><td>Developing</td><td>73.5</td><td> 15</td><td> 1</td><td>5.16</td><td> 26.993121</td><td>98</td><td>   6</td><td>...</td><td>97</td><td>6.12</td><td>98</td><td>0.1</td><td> 279.14293</td><td> 311487</td><td> 1.8</td><td> 1.8</td><td>0.685</td><td>10.8</td></tr>\n",
       "</tbody>\n",
       "</table>\n"
      ],
      "text/latex": [
       "A data.frame: 6 x 22\n",
       "\\begin{tabular}{r|lllllllllllllllllllll}\n",
       "  & Country & Year & Status & Life.expectancy & Adult.Mortality & infant.deaths & Alcohol & percentage.expenditure & Hepatitis.B & Measles & ... & Polio & Total.expenditure & Diphtheria & HIV.AIDS & GDP & Population & thinness..1.19.years & thinness.5.9.years & Income.composition.of.resources & Schooling\\\\\n",
       "  & <chr> & <int> & <chr> & <dbl> & <int> & <int> & <dbl> & <dbl> & <int> & <int> & ... & <int> & <dbl> & <int> & <dbl> & <dbl> & <dbl> & <dbl> & <dbl> & <dbl> & <dbl>\\\\\n",
       "\\hline\n",
       "\t8 & Afghanistan & 2008 & Developing & 58.1 & 287 & 80 & 0.03 &  25.873925 & 64 & 1599 & ... & 64 & 8.33 & 64 & 0.1 &  373.36112 & 2729431 & 18.8 & 18.9 & 0.433 &  8.7\\\\\n",
       "\t11 & Afghanistan & 2005 & Developing & 57.3 & 291 & 85 & 0.02 &   1.388648 & 66 & 1296 & ... & 58 & 8.70 & 58 & 0.1 &   25.29413 &  257798 & 19.3 & 19.5 & 0.396 &  7.9\\\\\n",
       "\t16 & Afghanistan & 2000 & Developing & 54.8 & 321 & 88 & 0.01 &  10.424960 & 62 & 6532 & ... & 24 & 8.20 & 24 & 0.1 &  114.56000 &  293756 &  2.3 &  2.5 & 0.338 &  5.5\\\\\n",
       "\t19 & Albania     & 2013 & Developing & 77.2 &  84 &  0 & 4.76 & 430.876979 & 99 &    0 & ... & 99 & 5.66 & 99 & 0.1 & 4414.72314 &  289592 &  1.3 &  1.4 & 0.759 & 14.2\\\\\n",
       "\t21 & Albania     & 2011 & Developing & 76.6 &  88 &  0 & 5.37 & 437.062100 & 99 &   28 & ... & 99 & 5.71 & 99 & 0.1 & 4437.17868 &  295195 &  1.4 &  1.5 & 0.738 & 13.3\\\\\n",
       "\t27 & Albania     & 2005 & Developing & 73.5 &  15 &  1 & 5.16 &  26.993121 & 98 &    6 & ... & 97 & 6.12 & 98 & 0.1 &  279.14293 &  311487 &  1.8 &  1.8 & 0.685 & 10.8\\\\\n",
       "\\end{tabular}\n"
      ],
      "text/markdown": [
       "\n",
       "A data.frame: 6 x 22\n",
       "\n",
       "| <!--/--> | Country &lt;chr&gt; | Year &lt;int&gt; | Status &lt;chr&gt; | Life.expectancy &lt;dbl&gt; | Adult.Mortality &lt;int&gt; | infant.deaths &lt;int&gt; | Alcohol &lt;dbl&gt; | percentage.expenditure &lt;dbl&gt; | Hepatitis.B &lt;int&gt; | Measles &lt;int&gt; | ... ... | Polio &lt;int&gt; | Total.expenditure &lt;dbl&gt; | Diphtheria &lt;int&gt; | HIV.AIDS &lt;dbl&gt; | GDP &lt;dbl&gt; | Population &lt;dbl&gt; | thinness..1.19.years &lt;dbl&gt; | thinness.5.9.years &lt;dbl&gt; | Income.composition.of.resources &lt;dbl&gt; | Schooling &lt;dbl&gt; |\n",
       "|---|---|---|---|---|---|---|---|---|---|---|---|---|---|---|---|---|---|---|---|---|---|\n",
       "| 8 | Afghanistan | 2008 | Developing | 58.1 | 287 | 80 | 0.03 |  25.873925 | 64 | 1599 | ... | 64 | 8.33 | 64 | 0.1 |  373.36112 | 2729431 | 18.8 | 18.9 | 0.433 |  8.7 |\n",
       "| 11 | Afghanistan | 2005 | Developing | 57.3 | 291 | 85 | 0.02 |   1.388648 | 66 | 1296 | ... | 58 | 8.70 | 58 | 0.1 |   25.29413 |  257798 | 19.3 | 19.5 | 0.396 |  7.9 |\n",
       "| 16 | Afghanistan | 2000 | Developing | 54.8 | 321 | 88 | 0.01 |  10.424960 | 62 | 6532 | ... | 24 | 8.20 | 24 | 0.1 |  114.56000 |  293756 |  2.3 |  2.5 | 0.338 |  5.5 |\n",
       "| 19 | Albania     | 2013 | Developing | 77.2 |  84 |  0 | 4.76 | 430.876979 | 99 |    0 | ... | 99 | 5.66 | 99 | 0.1 | 4414.72314 |  289592 |  1.3 |  1.4 | 0.759 | 14.2 |\n",
       "| 21 | Albania     | 2011 | Developing | 76.6 |  88 |  0 | 5.37 | 437.062100 | 99 |   28 | ... | 99 | 5.71 | 99 | 0.1 | 4437.17868 |  295195 |  1.4 |  1.5 | 0.738 | 13.3 |\n",
       "| 27 | Albania     | 2005 | Developing | 73.5 |  15 |  1 | 5.16 |  26.993121 | 98 |    6 | ... | 97 | 6.12 | 98 | 0.1 |  279.14293 |  311487 |  1.8 |  1.8 | 0.685 | 10.8 |\n",
       "\n"
      ],
      "text/plain": [
       "   Country     Year Status     Life.expectancy Adult.Mortality infant.deaths\n",
       "8  Afghanistan 2008 Developing 58.1            287             80           \n",
       "11 Afghanistan 2005 Developing 57.3            291             85           \n",
       "16 Afghanistan 2000 Developing 54.8            321             88           \n",
       "19 Albania     2013 Developing 77.2             84              0           \n",
       "21 Albania     2011 Developing 76.6             88              0           \n",
       "27 Albania     2005 Developing 73.5             15              1           \n",
       "   Alcohol percentage.expenditure Hepatitis.B Measles ... Polio\n",
       "8  0.03     25.873925             64          1599    ... 64   \n",
       "11 0.02      1.388648             66          1296    ... 58   \n",
       "16 0.01     10.424960             62          6532    ... 24   \n",
       "19 4.76    430.876979             99             0    ... 99   \n",
       "21 5.37    437.062100             99            28    ... 99   \n",
       "27 5.16     26.993121             98             6    ... 97   \n",
       "   Total.expenditure Diphtheria HIV.AIDS GDP        Population\n",
       "8  8.33              64         0.1       373.36112 2729431   \n",
       "11 8.70              58         0.1        25.29413  257798   \n",
       "16 8.20              24         0.1       114.56000  293756   \n",
       "19 5.66              99         0.1      4414.72314  289592   \n",
       "21 5.71              99         0.1      4437.17868  295195   \n",
       "27 6.12              98         0.1       279.14293  311487   \n",
       "   thinness..1.19.years thinness.5.9.years Income.composition.of.resources\n",
       "8  18.8                 18.9               0.433                          \n",
       "11 19.3                 19.5               0.396                          \n",
       "16  2.3                  2.5               0.338                          \n",
       "19  1.3                  1.4               0.759                          \n",
       "21  1.4                  1.5               0.738                          \n",
       "27  1.8                  1.8               0.685                          \n",
       "   Schooling\n",
       "8   8.7     \n",
       "11  7.9     \n",
       "16  5.5     \n",
       "19 14.2     \n",
       "21 13.3     \n",
       "27 10.8     "
      ]
     },
     "metadata": {},
     "output_type": "display_data"
    },
    {
     "data": {
      "text/html": [
       "<table class=\"dataframe\">\n",
       "<caption>A data.frame: 6 x 22</caption>\n",
       "<thead>\n",
       "\t<tr><th></th><th scope=col>Country</th><th scope=col>Year</th><th scope=col>Status</th><th scope=col>Life.expectancy</th><th scope=col>Adult.Mortality</th><th scope=col>infant.deaths</th><th scope=col>Alcohol</th><th scope=col>percentage.expenditure</th><th scope=col>Hepatitis.B</th><th scope=col>Measles</th><th scope=col>...</th><th scope=col>Polio</th><th scope=col>Total.expenditure</th><th scope=col>Diphtheria</th><th scope=col>HIV.AIDS</th><th scope=col>GDP</th><th scope=col>Population</th><th scope=col>thinness..1.19.years</th><th scope=col>thinness.5.9.years</th><th scope=col>Income.composition.of.resources</th><th scope=col>Schooling</th></tr>\n",
       "\t<tr><th></th><th scope=col>&lt;chr&gt;</th><th scope=col>&lt;int&gt;</th><th scope=col>&lt;chr&gt;</th><th scope=col>&lt;dbl&gt;</th><th scope=col>&lt;int&gt;</th><th scope=col>&lt;int&gt;</th><th scope=col>&lt;dbl&gt;</th><th scope=col>&lt;dbl&gt;</th><th scope=col>&lt;int&gt;</th><th scope=col>&lt;int&gt;</th><th scope=col>...</th><th scope=col>&lt;int&gt;</th><th scope=col>&lt;dbl&gt;</th><th scope=col>&lt;int&gt;</th><th scope=col>&lt;dbl&gt;</th><th scope=col>&lt;dbl&gt;</th><th scope=col>&lt;dbl&gt;</th><th scope=col>&lt;dbl&gt;</th><th scope=col>&lt;dbl&gt;</th><th scope=col>&lt;dbl&gt;</th><th scope=col>&lt;dbl&gt;</th></tr>\n",
       "</thead>\n",
       "<tbody>\n",
       "\t<tr><th scope=row>1</th><td>Afghanistan</td><td>2015</td><td>Developing</td><td>65.0</td><td>263</td><td>62</td><td>0.01</td><td>71.279624</td><td>65</td><td>1154</td><td>...</td><td> 6</td><td>8.16</td><td>65</td><td>0.1</td><td>584.25921</td><td>33736494</td><td>17.2</td><td>17.3</td><td>0.479</td><td>10.1</td></tr>\n",
       "\t<tr><th scope=row>2</th><td>Afghanistan</td><td>2014</td><td>Developing</td><td>59.9</td><td>271</td><td>64</td><td>0.01</td><td>73.523582</td><td>62</td><td> 492</td><td>...</td><td>58</td><td>8.18</td><td>62</td><td>0.1</td><td>612.69651</td><td>  327582</td><td>17.5</td><td>17.5</td><td>0.476</td><td>10.0</td></tr>\n",
       "\t<tr><th scope=row>3</th><td>Afghanistan</td><td>2013</td><td>Developing</td><td>59.9</td><td>268</td><td>66</td><td>0.01</td><td>73.219243</td><td>64</td><td> 430</td><td>...</td><td>62</td><td>8.13</td><td>64</td><td>0.1</td><td>631.74498</td><td>31731688</td><td>17.7</td><td>17.7</td><td>0.470</td><td> 9.9</td></tr>\n",
       "\t<tr><th scope=row>4</th><td>Afghanistan</td><td>2012</td><td>Developing</td><td>59.5</td><td>272</td><td>69</td><td>0.01</td><td>78.184215</td><td>67</td><td>2787</td><td>...</td><td>67</td><td>8.52</td><td>67</td><td>0.1</td><td>669.95900</td><td> 3696958</td><td>17.9</td><td>18.0</td><td>0.463</td><td> 9.8</td></tr>\n",
       "\t<tr><th scope=row>5</th><td>Afghanistan</td><td>2011</td><td>Developing</td><td>59.2</td><td>275</td><td>71</td><td>0.01</td><td> 7.097109</td><td>68</td><td>3013</td><td>...</td><td>68</td><td>7.87</td><td>68</td><td>0.1</td><td> 63.53723</td><td> 2978599</td><td>18.2</td><td>18.2</td><td>0.454</td><td> 9.5</td></tr>\n",
       "\t<tr><th scope=row>6</th><td>Afghanistan</td><td>2010</td><td>Developing</td><td>58.8</td><td>279</td><td>74</td><td>0.01</td><td>79.679367</td><td>66</td><td>1989</td><td>...</td><td>66</td><td>9.20</td><td>66</td><td>0.1</td><td>553.32894</td><td> 2883167</td><td>18.4</td><td>18.4</td><td>0.448</td><td> 9.2</td></tr>\n",
       "</tbody>\n",
       "</table>\n"
      ],
      "text/latex": [
       "A data.frame: 6 x 22\n",
       "\\begin{tabular}{r|lllllllllllllllllllll}\n",
       "  & Country & Year & Status & Life.expectancy & Adult.Mortality & infant.deaths & Alcohol & percentage.expenditure & Hepatitis.B & Measles & ... & Polio & Total.expenditure & Diphtheria & HIV.AIDS & GDP & Population & thinness..1.19.years & thinness.5.9.years & Income.composition.of.resources & Schooling\\\\\n",
       "  & <chr> & <int> & <chr> & <dbl> & <int> & <int> & <dbl> & <dbl> & <int> & <int> & ... & <int> & <dbl> & <int> & <dbl> & <dbl> & <dbl> & <dbl> & <dbl> & <dbl> & <dbl>\\\\\n",
       "\\hline\n",
       "\t1 & Afghanistan & 2015 & Developing & 65.0 & 263 & 62 & 0.01 & 71.279624 & 65 & 1154 & ... &  6 & 8.16 & 65 & 0.1 & 584.25921 & 33736494 & 17.2 & 17.3 & 0.479 & 10.1\\\\\n",
       "\t2 & Afghanistan & 2014 & Developing & 59.9 & 271 & 64 & 0.01 & 73.523582 & 62 &  492 & ... & 58 & 8.18 & 62 & 0.1 & 612.69651 &   327582 & 17.5 & 17.5 & 0.476 & 10.0\\\\\n",
       "\t3 & Afghanistan & 2013 & Developing & 59.9 & 268 & 66 & 0.01 & 73.219243 & 64 &  430 & ... & 62 & 8.13 & 64 & 0.1 & 631.74498 & 31731688 & 17.7 & 17.7 & 0.470 &  9.9\\\\\n",
       "\t4 & Afghanistan & 2012 & Developing & 59.5 & 272 & 69 & 0.01 & 78.184215 & 67 & 2787 & ... & 67 & 8.52 & 67 & 0.1 & 669.95900 &  3696958 & 17.9 & 18.0 & 0.463 &  9.8\\\\\n",
       "\t5 & Afghanistan & 2011 & Developing & 59.2 & 275 & 71 & 0.01 &  7.097109 & 68 & 3013 & ... & 68 & 7.87 & 68 & 0.1 &  63.53723 &  2978599 & 18.2 & 18.2 & 0.454 &  9.5\\\\\n",
       "\t6 & Afghanistan & 2010 & Developing & 58.8 & 279 & 74 & 0.01 & 79.679367 & 66 & 1989 & ... & 66 & 9.20 & 66 & 0.1 & 553.32894 &  2883167 & 18.4 & 18.4 & 0.448 &  9.2\\\\\n",
       "\\end{tabular}\n"
      ],
      "text/markdown": [
       "\n",
       "A data.frame: 6 x 22\n",
       "\n",
       "| <!--/--> | Country &lt;chr&gt; | Year &lt;int&gt; | Status &lt;chr&gt; | Life.expectancy &lt;dbl&gt; | Adult.Mortality &lt;int&gt; | infant.deaths &lt;int&gt; | Alcohol &lt;dbl&gt; | percentage.expenditure &lt;dbl&gt; | Hepatitis.B &lt;int&gt; | Measles &lt;int&gt; | ... ... | Polio &lt;int&gt; | Total.expenditure &lt;dbl&gt; | Diphtheria &lt;int&gt; | HIV.AIDS &lt;dbl&gt; | GDP &lt;dbl&gt; | Population &lt;dbl&gt; | thinness..1.19.years &lt;dbl&gt; | thinness.5.9.years &lt;dbl&gt; | Income.composition.of.resources &lt;dbl&gt; | Schooling &lt;dbl&gt; |\n",
       "|---|---|---|---|---|---|---|---|---|---|---|---|---|---|---|---|---|---|---|---|---|---|\n",
       "| 1 | Afghanistan | 2015 | Developing | 65.0 | 263 | 62 | 0.01 | 71.279624 | 65 | 1154 | ... |  6 | 8.16 | 65 | 0.1 | 584.25921 | 33736494 | 17.2 | 17.3 | 0.479 | 10.1 |\n",
       "| 2 | Afghanistan | 2014 | Developing | 59.9 | 271 | 64 | 0.01 | 73.523582 | 62 |  492 | ... | 58 | 8.18 | 62 | 0.1 | 612.69651 |   327582 | 17.5 | 17.5 | 0.476 | 10.0 |\n",
       "| 3 | Afghanistan | 2013 | Developing | 59.9 | 268 | 66 | 0.01 | 73.219243 | 64 |  430 | ... | 62 | 8.13 | 64 | 0.1 | 631.74498 | 31731688 | 17.7 | 17.7 | 0.470 |  9.9 |\n",
       "| 4 | Afghanistan | 2012 | Developing | 59.5 | 272 | 69 | 0.01 | 78.184215 | 67 | 2787 | ... | 67 | 8.52 | 67 | 0.1 | 669.95900 |  3696958 | 17.9 | 18.0 | 0.463 |  9.8 |\n",
       "| 5 | Afghanistan | 2011 | Developing | 59.2 | 275 | 71 | 0.01 |  7.097109 | 68 | 3013 | ... | 68 | 7.87 | 68 | 0.1 |  63.53723 |  2978599 | 18.2 | 18.2 | 0.454 |  9.5 |\n",
       "| 6 | Afghanistan | 2010 | Developing | 58.8 | 279 | 74 | 0.01 | 79.679367 | 66 | 1989 | ... | 66 | 9.20 | 66 | 0.1 | 553.32894 |  2883167 | 18.4 | 18.4 | 0.448 |  9.2 |\n",
       "\n"
      ],
      "text/plain": [
       "  Country     Year Status     Life.expectancy Adult.Mortality infant.deaths\n",
       "1 Afghanistan 2015 Developing 65.0            263             62           \n",
       "2 Afghanistan 2014 Developing 59.9            271             64           \n",
       "3 Afghanistan 2013 Developing 59.9            268             66           \n",
       "4 Afghanistan 2012 Developing 59.5            272             69           \n",
       "5 Afghanistan 2011 Developing 59.2            275             71           \n",
       "6 Afghanistan 2010 Developing 58.8            279             74           \n",
       "  Alcohol percentage.expenditure Hepatitis.B Measles ... Polio\n",
       "1 0.01    71.279624              65          1154    ...  6   \n",
       "2 0.01    73.523582              62           492    ... 58   \n",
       "3 0.01    73.219243              64           430    ... 62   \n",
       "4 0.01    78.184215              67          2787    ... 67   \n",
       "5 0.01     7.097109              68          3013    ... 68   \n",
       "6 0.01    79.679367              66          1989    ... 66   \n",
       "  Total.expenditure Diphtheria HIV.AIDS GDP       Population\n",
       "1 8.16              65         0.1      584.25921 33736494  \n",
       "2 8.18              62         0.1      612.69651   327582  \n",
       "3 8.13              64         0.1      631.74498 31731688  \n",
       "4 8.52              67         0.1      669.95900  3696958  \n",
       "5 7.87              68         0.1       63.53723  2978599  \n",
       "6 9.20              66         0.1      553.32894  2883167  \n",
       "  thinness..1.19.years thinness.5.9.years Income.composition.of.resources\n",
       "1 17.2                 17.3               0.479                          \n",
       "2 17.5                 17.5               0.476                          \n",
       "3 17.7                 17.7               0.470                          \n",
       "4 17.9                 18.0               0.463                          \n",
       "5 18.2                 18.2               0.454                          \n",
       "6 18.4                 18.4               0.448                          \n",
       "  Schooling\n",
       "1 10.1     \n",
       "2 10.0     \n",
       "3  9.9     \n",
       "4  9.8     \n",
       "5  9.5     \n",
       "6  9.2     "
      ]
     },
     "metadata": {},
     "output_type": "display_data"
    }
   ],
   "source": [
    "test_data <- data[Indice_test, ]\n",
    "train_data <- data[-Indice_test, ]\n",
    "train_data <- na.omit(train_data)\n",
    "test_data <- na.omit(test_data)\n",
    "cat(\"Nombre d'individus dans la base de test :\", nrow(test_data), \"\\n\")\n",
    "cat(\"Nombre d'individus dans la base d'entrainement :\", nrow(train_data), \"\\n\")\n",
    "head(test_data)\n",
    "head(train_data)"
   ]
  },
  {
   "cell_type": "code",
   "execution_count": 5,
   "metadata": {
    "vscode": {
     "languageId": "r"
    }
   },
   "outputs": [
    {
     "name": "stdout",
     "output_type": "stream",
     "text": [
      "\n",
      "Call:\n",
      " randomForest(formula = Life.expectancy ~ Country + infant.deaths +      Alcohol + BMI + GDP + percentage.expenditure, data = train_data,      ntree = 500, mtry = 3, importance = TRUE) \n",
      "               Type of random forest: regression\n",
      "                     Number of trees: 500\n",
      "No. of variables tried at each split: 3\n",
      "\n",
      "          Mean of squared residuals: 11.72063\n",
      "                    % Var explained: 84.68\n",
      "[1] \"MSE: 13.8776609552554\"\n",
      "[1] \"RMSE: 3.72527327256074\"\n"
     ]
    }
   ],
   "source": [
    "\n",
    "#MODÈLE CV\n",
    "\n",
    "rf_model_1 <- randomForest(Life.expectancy ~ Country + infant.deaths + Alcohol + BMI + GDP + percentage.expenditure, \n",
    "                           data = train_data, \n",
    "                           ntree = 500,  \n",
    "                           mtry = 3,     \n",
    "                           importance = TRUE)\n",
    "\n",
    "# Affichage des résultats du modèle\n",
    "print(rf_model_1)\n",
    "\n",
    "# Prédictions sur les données de test\n",
    "predictions <- predict(rf_model_1, newdata = test_data)\n",
    "\n",
    "# Calcul de l'erreur quadratique moyenne (MSE)\n",
    "mse <- mean((predictions - test_data$Life.expectancy)^2)\n",
    "print(paste(\"MSE:\", mse))\n",
    "print(paste(\"RMSE:\", sqrt(mse)))\n"
   ]
  },
  {
   "cell_type": "code",
   "execution_count": 7,
   "metadata": {
    "vscode": {
     "languageId": "r"
    }
   },
   "outputs": [
    {
     "name": "stdout",
     "output_type": "stream",
     "text": [
      "\n",
      "Call:\n",
      " randomForest(formula = Life.expectancy ~ Country + infant.deaths +      Alcohol + BMI + GDP + percentage.expenditure, data = data,      ntree = 500, mtry = 3, importance = TRUE) \n",
      "               Type of random forest: regression\n",
      "                     Number of trees: 500\n",
      "No. of variables tried at each split: 3\n",
      "\n",
      "          Mean of squared residuals: 8.757918\n",
      "                    % Var explained: 88.68\n",
      "[1] \"MSE OOB: 8.757918255112\"\n",
      "[1] \"RMSE 2.9593780182856\"\n"
     ]
    },
    {
     "data": {
      "image/png": "[encoded data removed]",
      "text/plain": [
       "Plot with title \"Evolution de l'erreur OOB\""
      ]
     },
     "metadata": {
      "image/png": {
       "height": 420,
       "width": 420
      }
     },
     "output_type": "display_data"
    }
   ],
   "source": [
    "#MODÈLE OOB\n",
    "\n",
    "\n",
    "data=na.omit(data)\n",
    "rf_model_2 <- randomForest(Life.expectancy ~ Country + infant.deaths + Alcohol + BMI + GDP + percentage.expenditure, \n",
    "                           data = data, \n",
    "                           ntree = 500,  \n",
    "                           mtry = 3,     \n",
    "                           importance = TRUE)\n",
    "\n",
    "print(rf_model_2)\n",
    "\n",
    "oob_predictions <- rf_model_2$predicted\n",
    "oob_mse <- mean((data$Life.expectancy - oob_predictions)^2)\n",
    "print(paste(\"MSE OOB:\", oob_mse))\n",
    "print(paste(\"RMSE\", sqrt(oob_mse)))\n",
    "\n",
    "plot(rf_model_2$mse,type =\"l\" ,main = \"Evolution de l'erreur OOB\")\n",
    "\n",
    "\n",
    "\n"
   ]
  }
 ],
 "metadata": {
  "kernelspec": {
   "display_name": "R",
   "language": "R",
   "name": "ir"
  },
  "language_info": {
   "codemirror_mode": "r",
   "file_extension": ".r",
   "mimetype": "text/x-r-source",
   "name": "R",
   "pygments_lexer": "r",
   "version": "4.2.1"
  }
 },
 "nbformat": 4,
 "nbformat_minor": 2
}
